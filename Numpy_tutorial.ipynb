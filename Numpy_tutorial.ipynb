{
  "nbformat": 4,
  "nbformat_minor": 0,
  "metadata": {
    "colab": {
      "name": "Numpy_tutorial.ipynb",
      "version": "0.3.2",
      "provenance": [],
      "collapsed_sections": [],
      "include_colab_link": true
    },
    "kernelspec": {
      "name": "python3",
      "display_name": "Python 3"
    }
  },
  "cells": [
    {
      "cell_type": "markdown",
      "metadata": {
        "id": "view-in-github",
        "colab_type": "text"
      },
      "source": [
        "<a href=\"https://colab.research.google.com/github/GlubokovK/ML_tutorials/blob/master/Numpy_tutorial.ipynb\" target=\"_parent\"><img src=\"https://colab.research.google.com/assets/colab-badge.svg\" alt=\"Open In Colab\"/></a>"
      ]
    },
    {
      "cell_type": "markdown",
      "metadata": {
        "id": "Saoeki6WfLOI",
        "colab_type": "text"
      },
      "source": [
        "#### монтировка Google Drive к файловой системе машины"
      ]
    },
    {
      "cell_type": "code",
      "metadata": {
        "id": "mugUKpE6ftuh",
        "colab_type": "code",
        "colab": {}
      },
      "source": [
        "!apt-get install -y -qq software-properties-common python-software-properties module-init-tools\n",
        "!add-apt-repository -y ppa:alessandro-strada/ppa 2>&1 > /dev/null\n",
        "!apt-get update -qq 2>&1 > /dev/null\n",
        "!apt-get -y install -qq google-drive-ocamlfuse fuse\n",
        "\n",
        "from google.colab import auth\n",
        "auth.authenticate_user()\n",
        "from oauth2client.client import GoogleCredentials\n",
        "creds = GoogleCredentials.get_application_default()\n",
        "import getpass\n",
        "!google-drive-ocamlfuse -headless -id={creds.client_id} -secret={creds.client_secret} < /dev/null 2>&1 | grep URL\n",
        "vcode = getpass.getpass()\n",
        "!echo {vcode} | google-drive-ocamlfuse -headless -id={creds.client_id} -secret={creds.client_secret}\n",
        "\n",
        "\n",
        "!mkdir -p drive\n",
        "!google-drive-ocamlfuse drive\n",
        "\n",
        "# Run this cell to mount your Google Drive.\n",
        "from google.colab import drive\n",
        "drive.mount('/content/drive')"
      ],
      "execution_count": 0,
      "outputs": []
    },
    {
      "cell_type": "code",
      "metadata": {
        "id": "E7FJjfH3cc8K",
        "colab_type": "code",
        "colab": {}
      },
      "source": [
        ""
      ],
      "execution_count": 0,
      "outputs": []
    },
    {
      "cell_type": "markdown",
      "metadata": {
        "id": "-YQEckd3uePr",
        "colab_type": "text"
      },
      "source": [
        "# NUMPY tutorial"
      ]
    },
    {
      "cell_type": "markdown",
      "metadata": {
        "id": "BVYAJMJowDmb",
        "colab_type": "text"
      },
      "source": [
        "#### векторы"
      ]
    },
    {
      "cell_type": "code",
      "metadata": {
        "id": "aQWe44Ksdu86",
        "colab_type": "code",
        "colab": {}
      },
      "source": [
        "import numpy as np"
      ],
      "execution_count": 0,
      "outputs": []
    },
    {
      "cell_type": "code",
      "metadata": {
        "id": "8ClQ1T0_dvAI",
        "colab_type": "code",
        "colab": {}
      },
      "source": [
        "# создать вектор\n",
        "x = [[2], [3], [4], [6]]\n",
        "y = np.array(x)"
      ],
      "execution_count": 0,
      "outputs": []
    },
    {
      "cell_type": "code",
      "metadata": {
        "id": "Bl692La4dbAc",
        "colab_type": "code",
        "colab": {
          "base_uri": "https://localhost:8080/",
          "height": 84
        },
        "outputId": "44db8be7-eb7a-4db1-a26d-750aa0a69014"
      },
      "source": [
        "print(y)"
      ],
      "execution_count": 5,
      "outputs": [
        {
          "output_type": "stream",
          "text": [
            "[[2]\n",
            " [3]\n",
            " [4]\n",
            " [6]]\n"
          ],
          "name": "stdout"
        }
      ]
    },
    {
      "cell_type": "code",
      "metadata": {
        "id": "AOkLjXGNvG0r",
        "colab_type": "code",
        "colab": {
          "base_uri": "https://localhost:8080/",
          "height": 34
        },
        "outputId": "4a26ceb4-730a-41a2-c83a-5b4abb7fe9d4"
      },
      "source": [
        "print (x * 5)"
      ],
      "execution_count": 6,
      "outputs": [
        {
          "output_type": "stream",
          "text": [
            "[[2], [3], [4], [6], [2], [3], [4], [6], [2], [3], [4], [6], [2], [3], [4], [6], [2], [3], [4], [6]]\n"
          ],
          "name": "stdout"
        }
      ]
    },
    {
      "cell_type": "code",
      "metadata": {
        "id": "BrRbq3WIvG3p",
        "colab_type": "code",
        "colab": {
          "base_uri": "https://localhost:8080/",
          "height": 84
        },
        "outputId": "42c88517-64cf-43fd-d51e-c7c53a45668e"
      },
      "source": [
        "print (y * 5) #отличие операции от обычной"
      ],
      "execution_count": 7,
      "outputs": [
        {
          "output_type": "stream",
          "text": [
            "[[10]\n",
            " [15]\n",
            " [20]\n",
            " [30]]\n"
          ],
          "name": "stdout"
        }
      ]
    },
    {
      "cell_type": "code",
      "metadata": {
        "id": "0gbp8EQivG67",
        "colab_type": "code",
        "colab": {
          "base_uri": "https://localhost:8080/",
          "height": 84
        },
        "outputId": "8b2f53b7-78ee-466e-bbb1-527f9295a916"
      },
      "source": [
        "print (y ** 2)"
      ],
      "execution_count": 9,
      "outputs": [
        {
          "output_type": "stream",
          "text": [
            "[[ 4]\n",
            " [ 9]\n",
            " [16]\n",
            " [36]]\n"
          ],
          "name": "stdout"
        }
      ]
    },
    {
      "cell_type": "code",
      "metadata": {
        "id": "VNKLFGJ0wHP8",
        "colab_type": "code",
        "colab": {}
      },
      "source": [
        ""
      ],
      "execution_count": 0,
      "outputs": []
    },
    {
      "cell_type": "code",
      "metadata": {
        "id": "uDWCo6Y-vmRS",
        "colab_type": "code",
        "colab": {
          "base_uri": "https://localhost:8080/",
          "height": 84
        },
        "outputId": "5b9c7e01-088a-44da-a1e2-80c1daac373c"
      },
      "source": [
        "matrix = [[1, 2, 4], [3, 1, 0]]\n",
        "nd_array = np.array(matrix)\n",
        "print(matrix)\n",
        "print(nd_array)\n",
        "print(nd_array[0][1])"
      ],
      "execution_count": 10,
      "outputs": [
        {
          "output_type": "stream",
          "text": [
            "[[1, 2, 4], [3, 1, 0]]\n",
            "[[1 2 4]\n",
            " [3 1 0]]\n",
            "2\n"
          ],
          "name": "stdout"
        }
      ]
    },
    {
      "cell_type": "code",
      "metadata": {
        "id": "8pmvKwdEwOwr",
        "colab_type": "code",
        "colab": {
          "base_uri": "https://localhost:8080/",
          "height": 34
        },
        "outputId": "4eb5c91c-e705-42fb-98ae-6009efe00e7e"
      },
      "source": [
        "print(np.random.rand())"
      ],
      "execution_count": 11,
      "outputs": [
        {
          "output_type": "stream",
          "text": [
            "0.5388182620505214\n"
          ],
          "name": "stdout"
        }
      ]
    },
    {
      "cell_type": "code",
      "metadata": {
        "id": "vruHT5qmwRc0",
        "colab_type": "code",
        "colab": {
          "base_uri": "https://localhost:8080/",
          "height": 34
        },
        "outputId": "4e98d687-55d3-4fa8-889b-f33a9dd556ba"
      },
      "source": [
        "print(np.random.randn(4))"
      ],
      "execution_count": 12,
      "outputs": [
        {
          "output_type": "stream",
          "text": [
            "[ 1.09862498  0.17416863 -0.17182377 -0.6662371 ]\n"
          ],
          "name": "stdout"
        }
      ]
    },
    {
      "cell_type": "code",
      "metadata": {
        "id": "byqkPY8CwYR4",
        "colab_type": "code",
        "colab": {
          "base_uri": "https://localhost:8080/",
          "height": 84
        },
        "outputId": "95ef037e-f573-421b-81e5-932172c903ec"
      },
      "source": [
        "print(np.random.randn(4, 5))"
      ],
      "execution_count": 13,
      "outputs": [
        {
          "output_type": "stream",
          "text": [
            "[[ 0.54340227  1.30832309 -0.57694551  1.9431822   0.36725779]\n",
            " [ 0.14686766 -0.82068019 -1.51930902  0.12222015 -1.29340524]\n",
            " [ 1.19208733  0.88381143  0.48864783  0.52490006 -0.08188405]\n",
            " [-2.19648836 -0.42917681 -0.89303428 -0.30740036 -1.08978632]]\n"
          ],
          "name": "stdout"
        }
      ]
    },
    {
      "cell_type": "code",
      "metadata": {
        "id": "YhNF7mE8wcqL",
        "colab_type": "code",
        "colab": {
          "base_uri": "https://localhost:8080/",
          "height": 101
        },
        "outputId": "2e986df1-7a8d-4ede-ff55-8fb99662f24c"
      },
      "source": [
        "print(np.arange(0, 8, 0.1)) # анаолог ф-ии range, с дробным шагом"
      ],
      "execution_count": 14,
      "outputs": [
        {
          "output_type": "stream",
          "text": [
            "[0.  0.1 0.2 0.3 0.4 0.5 0.6 0.7 0.8 0.9 1.  1.1 1.2 1.3 1.4 1.5 1.6 1.7\n",
            " 1.8 1.9 2.  2.1 2.2 2.3 2.4 2.5 2.6 2.7 2.8 2.9 3.  3.1 3.2 3.3 3.4 3.5\n",
            " 3.6 3.7 3.8 3.9 4.  4.1 4.2 4.3 4.4 4.5 4.6 4.7 4.8 4.9 5.  5.1 5.2 5.3\n",
            " 5.4 5.5 5.6 5.7 5.8 5.9 6.  6.1 6.2 6.3 6.4 6.5 6.6 6.7 6.8 6.9 7.  7.1\n",
            " 7.2 7.3 7.4 7.5 7.6 7.7 7.8 7.9]\n"
          ],
          "name": "stdout"
        }
      ]
    },
    {
      "cell_type": "code",
      "metadata": {
        "id": "bRSVMO_4woRx",
        "colab_type": "code",
        "colab": {
          "base_uri": "https://localhost:8080/",
          "height": 50
        },
        "outputId": "831615a6-d5ad-4459-f8a3-c5fb29ef93ab"
      },
      "source": [
        "print(np.linspace(0, 2, 10))"
      ],
      "execution_count": 16,
      "outputs": [
        {
          "output_type": "stream",
          "text": [
            "[0.         0.22222222 0.44444444 0.66666667 0.88888889 1.11111111\n",
            " 1.33333333 1.55555556 1.77777778 2.        ]\n"
          ],
          "name": "stdout"
        }
      ]
    },
    {
      "cell_type": "code",
      "metadata": {
        "id": "h9Zu8kBIw5r7",
        "colab_type": "code",
        "colab": {
          "base_uri": "https://localhost:8080/",
          "height": 84
        },
        "outputId": "642a5d52-f67f-412f-e1b2-57533b0063be"
      },
      "source": [
        "%timeit np.arange(0, 10000)\n",
        "%timeit range(0, 10000)"
      ],
      "execution_count": 17,
      "outputs": [
        {
          "output_type": "stream",
          "text": [
            "The slowest run took 39.22 times longer than the fastest. This could mean that an intermediate result is being cached.\n",
            "100000 loops, best of 3: 9.35 µs per loop\n",
            "The slowest run took 5.06 times longer than the fastest. This could mean that an intermediate result is being cached.\n",
            "1000000 loops, best of 3: 265 ns per loop\n"
          ],
          "name": "stdout"
        }
      ]
    },
    {
      "cell_type": "code",
      "metadata": {
        "id": "DzDCC-qJw-OM",
        "colab_type": "code",
        "colab": {
          "base_uri": "https://localhost:8080/",
          "height": 118
        },
        "outputId": "1a66913a-0757-45c0-ead3-d09e47dfafbb"
      },
      "source": [
        "# создадим матрицу из следующих столбцов:\n",
        "q1=[1,1,1,1,1,1]\n",
        "q2=[2,2,2,2,2,2]\n",
        "q3=[3,3,3,3,3,3]\n",
        "Qnp=np.array([q1,q2,q3]).transpose()\n",
        "print(Qnp)"
      ],
      "execution_count": 18,
      "outputs": [
        {
          "output_type": "stream",
          "text": [
            "[[1 2 3]\n",
            " [1 2 3]\n",
            " [1 2 3]\n",
            " [1 2 3]\n",
            " [1 2 3]\n",
            " [1 2 3]]\n"
          ],
          "name": "stdout"
        }
      ]
    },
    {
      "cell_type": "code",
      "metadata": {
        "id": "qnLBlJ9XxLW-",
        "colab_type": "code",
        "colab": {
          "base_uri": "https://localhost:8080/",
          "height": 151
        },
        "outputId": "2f8a6c26-e26f-484b-e089-8ba4bdb9b111"
      },
      "source": [
        "#вычисление средних по строкам и столбцам таблицы\n",
        "a=np.array([[2,2,2],[1,1,1],[1,1,1]])\n",
        "print(a)\n",
        "print('Средняя по строкам (axis=1): ',np.mean(a,axis=1))\n",
        "\n",
        "a=np.array([[2,2,2],[1,1,1],[1,1,1]])\n",
        "print(a)\n",
        "print('Средняя по стобцам (axis=0): ',np.mean(a,axis=0))"
      ],
      "execution_count": 20,
      "outputs": [
        {
          "output_type": "stream",
          "text": [
            "[[2 2 2]\n",
            " [1 1 1]\n",
            " [1 1 1]]\n",
            "Средняя по строкам (axis=1):  [2. 1. 1.]\n",
            "[[2 2 2]\n",
            " [1 1 1]\n",
            " [1 1 1]]\n",
            "Средняя по стобцам (axis=0):  [1.33333333 1.33333333 1.33333333]\n"
          ],
          "name": "stdout"
        }
      ]
    },
    {
      "cell_type": "code",
      "metadata": {
        "id": "jcFVCmLZxois",
        "colab_type": "code",
        "colab": {
          "base_uri": "https://localhost:8080/",
          "height": 101
        },
        "outputId": "200ac71e-395e-4c06-bc99-9addb3318474"
      },
      "source": [
        "# Стандартное отклонение std\n",
        "a=np.array([[2,2,2],[1,1,1],[1,1,1]])\n",
        "print(a)\n",
        "print('Стандартное отклонение std: ',np.std(a,axis=0),'\\n')"
      ],
      "execution_count": 21,
      "outputs": [
        {
          "output_type": "stream",
          "text": [
            "[[2 2 2]\n",
            " [1 1 1]\n",
            " [1 1 1]]\n",
            "Стандартное отклонение std:  [0.47140452 0.47140452 0.47140452] \n",
            "\n"
          ],
          "name": "stdout"
        }
      ]
    },
    {
      "cell_type": "code",
      "metadata": {
        "id": "rKSE0fiNxsz-",
        "colab_type": "code",
        "colab": {
          "base_uri": "https://localhost:8080/",
          "height": 218
        },
        "outputId": "f8c6fb54-edd1-49cd-cede-be89eb236930"
      },
      "source": [
        "#Пример поэлементного деления матрицы на вектор строку\n",
        "\n",
        "a=np.array([[2,2,2],[1,1,1],[1,1,1]])\n",
        "b=[2,2,1]\n",
        "print(a)\n",
        "print(b)\n",
        "print('Пример поэлементного деления матрицы на вектор строку')\n",
        "c=a/b\n",
        "print(c)\n",
        "\n",
        "#Пример поэлементного вычитания из матрицы вектор строки\n",
        "print('Пример поэлементного вычитания из матрицы вектор строки')\n",
        "one=[1,1,1]\n",
        "d=c-one\n",
        "print(d)"
      ],
      "execution_count": 25,
      "outputs": [
        {
          "output_type": "stream",
          "text": [
            "[[2 2 2]\n",
            " [1 1 1]\n",
            " [1 1 1]]\n",
            "[2, 2, 1]\n",
            "Пример поэлементного деления матрицы на вектор строку\n",
            "[[1.  1.  2. ]\n",
            " [0.5 0.5 1. ]\n",
            " [0.5 0.5 1. ]]\n",
            "Пример поэлементного вычитания из матрицы вектор строки\n",
            "[[ 0.   0.   1. ]\n",
            " [-0.5 -0.5  0. ]\n",
            " [-0.5 -0.5  0. ]]\n"
          ],
          "name": "stdout"
        }
      ]
    },
    {
      "cell_type": "code",
      "metadata": {
        "id": "WGHWeq1wyLn9",
        "colab_type": "code",
        "colab": {
          "base_uri": "https://localhost:8080/",
          "height": 168
        },
        "outputId": "6c79b140-a2c2-4642-bac4-e83641ed3c71"
      },
      "source": [
        "#как преобразовать строку в стобец\n",
        "print('строка:')\n",
        "b=np.ones(4)\n",
        "print(b)\n",
        "print(b.shape)\n",
        "\n",
        "print('столбец:')\n",
        "b=b.reshape(4,1)\n",
        "print(b)\n",
        "print(b.shape)"
      ],
      "execution_count": 28,
      "outputs": [
        {
          "output_type": "stream",
          "text": [
            "строка:\n",
            "[1. 1. 1. 1.]\n",
            "(4,)\n",
            "столбец:\n",
            "[[1.]\n",
            " [1.]\n",
            " [1.]\n",
            " [1.]]\n",
            "(4, 1)\n"
          ],
          "name": "stdout"
        }
      ]
    },
    {
      "cell_type": "code",
      "metadata": {
        "id": "u0l3P_zeypCU",
        "colab_type": "code",
        "colab": {
          "base_uri": "https://localhost:8080/",
          "height": 269
        },
        "outputId": "198e2ada-dfd4-49a1-a2f7-db22a4c6c6c6"
      },
      "source": [
        "#как к марице добавть столбец\n",
        "a=np.array([[2,2,2],[3,3,3],[4,4,4],[5,5,5]])\n",
        "print('a = \\n', a)\n",
        "\n",
        "b=np.ones(4) # создадим единичную строку\n",
        "b=b.reshape(4,1) # преобразуем строку в единичный стобец\n",
        "print('b = \\n', b)\n",
        "\n",
        "c=np.hstack((b,a)) # склеим матрицу и столбец\n",
        "print('c = \\n', c)"
      ],
      "execution_count": 34,
      "outputs": [
        {
          "output_type": "stream",
          "text": [
            "a = \n",
            " [[2 2 2]\n",
            " [3 3 3]\n",
            " [4 4 4]\n",
            " [5 5 5]]\n",
            "b = \n",
            " [[1.]\n",
            " [1.]\n",
            " [1.]\n",
            " [1.]]\n",
            "c = \n",
            " [[1. 2. 2. 2.]\n",
            " [1. 3. 3. 3.]\n",
            " [1. 4. 4. 4.]\n",
            " [1. 5. 5. 5.]]\n"
          ],
          "name": "stdout"
        }
      ]
    },
    {
      "cell_type": "code",
      "metadata": {
        "id": "nZnQEQJj5VuN",
        "colab_type": "code",
        "colab": {
          "base_uri": "https://localhost:8080/",
          "height": 34
        },
        "outputId": "167b9f9c-41dc-440f-f5ca-c0804a6a4425"
      },
      "source": [
        "# Скалярное произведение (Dot product)\n",
        "a=np.array([1,1,1,1])\n",
        "b=np.array([1,1,1,1])\n",
        "print(np.dot(a,b))"
      ],
      "execution_count": 35,
      "outputs": [
        {
          "output_type": "stream",
          "text": [
            "4\n"
          ],
          "name": "stdout"
        }
      ]
    },
    {
      "cell_type": "code",
      "metadata": {
        "id": "vPhB8RZp8LHe",
        "colab_type": "code",
        "colab": {
          "base_uri": "https://localhost:8080/",
          "height": 34
        },
        "outputId": "d27b41d2-9744-417f-e9d1-5c567cf571d3"
      },
      "source": [
        "# индексы максимальных элементов\n",
        "a = np.array([1,2,3,4,3,2,1])\n",
        "a.argmax(axis=0)"
      ],
      "execution_count": 54,
      "outputs": [
        {
          "output_type": "execute_result",
          "data": {
            "text/plain": [
              "3"
            ]
          },
          "metadata": {
            "tags": []
          },
          "execution_count": 54
        }
      ]
    },
    {
      "cell_type": "code",
      "metadata": {
        "id": "DTZbMXfi8LSd",
        "colab_type": "code",
        "colab": {
          "base_uri": "https://localhost:8080/",
          "height": 151
        },
        "outputId": "b26dc2c2-78c3-45e6-831e-7710df53fda8"
      },
      "source": [
        "# создание пустого массива, пустой массив, нулевой массив\n",
        "x1 = np.empty(shape=(3, 3))\n",
        "x2 = np.zeros(shape=(4, 4))\n",
        "print(x1)\n",
        "print()\n",
        "print(x2)"
      ],
      "execution_count": 57,
      "outputs": [
        {
          "output_type": "stream",
          "text": [
            "[[1.  1.  2. ]\n",
            " [0.5 0.5 1. ]\n",
            " [0.5 0.5 1. ]]\n",
            "\n",
            "[[0. 0. 0. 0.]\n",
            " [0. 0. 0. 0.]\n",
            " [0. 0. 0. 0.]\n",
            " [0. 0. 0. 0.]]\n"
          ],
          "name": "stdout"
        }
      ]
    }
  ]
}