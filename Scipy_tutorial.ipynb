{
  "nbformat": 4,
  "nbformat_minor": 0,
  "metadata": {
    "colab": {
      "name": "Scipy_tutorial.ipynb",
      "version": "0.3.2",
      "provenance": [],
      "collapsed_sections": [],
      "include_colab_link": true
    },
    "kernelspec": {
      "name": "python3",
      "display_name": "Python 3"
    }
  },
  "cells": [
    {
      "cell_type": "markdown",
      "metadata": {
        "id": "view-in-github",
        "colab_type": "text"
      },
      "source": [
        "<a href=\"https://colab.research.google.com/github/GlubokovK/ML_tutorials/blob/master/Scipy_tutorial.ipynb\" target=\"_parent\"><img src=\"https://colab.research.google.com/assets/colab-badge.svg\" alt=\"Open In Colab\"/></a>"
      ]
    },
    {
      "cell_type": "markdown",
      "metadata": {
        "id": "Saoeki6WfLOI",
        "colab_type": "text"
      },
      "source": [
        "#### монтировка Google Drive к файловой системе машины"
      ]
    },
    {
      "cell_type": "code",
      "metadata": {
        "id": "mugUKpE6ftuh",
        "colab_type": "code",
        "colab": {}
      },
      "source": [
        "!apt-get install -y -qq software-properties-common python-software-properties module-init-tools\n",
        "!add-apt-repository -y ppa:alessandro-strada/ppa 2>&1 > /dev/null\n",
        "!apt-get update -qq 2>&1 > /dev/null\n",
        "!apt-get -y install -qq google-drive-ocamlfuse fuse\n",
        "\n",
        "from google.colab import auth\n",
        "auth.authenticate_user()\n",
        "from oauth2client.client import GoogleCredentials\n",
        "creds = GoogleCredentials.get_application_default()\n",
        "import getpass\n",
        "!google-drive-ocamlfuse -headless -id={creds.client_id} -secret={creds.client_secret} < /dev/null 2>&1 | grep URL\n",
        "vcode = getpass.getpass()\n",
        "!echo {vcode} | google-drive-ocamlfuse -headless -id={creds.client_id} -secret={creds.client_secret}\n",
        "\n",
        "\n",
        "!mkdir -p drive\n",
        "!google-drive-ocamlfuse drive\n",
        "\n",
        "# Run this cell to mount your Google Drive.\n",
        "from google.colab import drive\n",
        "drive.mount('/content/drive')"
      ],
      "execution_count": 0,
      "outputs": []
    },
    {
      "cell_type": "code",
      "metadata": {
        "id": "E7FJjfH3cc8K",
        "colab_type": "code",
        "colab": {}
      },
      "source": [
        ""
      ],
      "execution_count": 0,
      "outputs": []
    },
    {
      "cell_type": "markdown",
      "metadata": {
        "id": "-YQEckd3uePr",
        "colab_type": "text"
      },
      "source": [
        "# Scipy tutorial"
      ]
    },
    {
      "cell_type": "code",
      "metadata": {
        "id": "Bnb0qqXm9lfF",
        "colab_type": "code",
        "colab": {
          "base_uri": "https://localhost:8080/",
          "height": 269
        },
        "outputId": "b7aae78d-0262-48a2-e081-189fb59a378a"
      },
      "source": [
        "# поиск минимума функции\n",
        "from scipy import optimize\n",
        "\n",
        "def f(x):\n",
        "    return (x[0] - 3.2) ** 2 + (x[1] - 0.1) ** 2 + 3\n",
        "\n",
        "print('аналитический минимум: ', f([3.2, 0.1]))\n",
        "\n",
        "print()\n",
        "print('Численный минимум:')\n",
        "x_min = optimize.minimize(f, [5, 5])\n",
        "print (x_min)\n",
        "print (x_min.x)"
      ],
      "execution_count": 6,
      "outputs": [
        {
          "output_type": "stream",
          "text": [
            "аналитический минимум:  3.0\n",
            "\n",
            "Численный минимум:\n",
            "      fun: 3.0000000000011435\n",
            " hess_inv: array([[ 0.94055055, -0.16183475],\n",
            "       [-0.16183475,  0.55944947]])\n",
            "      jac: array([-2.05636024e-06,  5.36441803e-07])\n",
            "  message: 'Optimization terminated successfully.'\n",
            "     nfev: 16\n",
            "      nit: 3\n",
            "     njev: 4\n",
            "   status: 0\n",
            "  success: True\n",
            "        x: array([3.19999896, 0.10000026])\n",
            "[3.19999896 0.10000026]\n"
          ],
          "name": "stdout"
        }
      ]
    },
    {
      "cell_type": "code",
      "metadata": {
        "id": "Y_Ewdkjb9liE",
        "colab_type": "code",
        "colab": {
          "base_uri": "https://localhost:8080/",
          "height": 101
        },
        "outputId": "512b0e05-5748-427b-c70d-9da19a25f855"
      },
      "source": [
        "# решение систем линейных уравнений\n",
        "\n",
        "from scipy import linalg\n",
        "import numpy as np\n",
        "\n",
        "a = np.array([[3, 2, 0], [1, -1, 0], [0, 5, 1]])\n",
        "b = np.array([2, 4, -1])\n",
        "\n",
        "x = linalg.solve(a, b)\n",
        "print('ответ:')\n",
        "print (x,'\\n')\n",
        "\n",
        "print('проверим ответ, умножим матрицу на x:')\n",
        "print (np.dot(a, x))\n",
        "\n"
      ],
      "execution_count": 10,
      "outputs": [
        {
          "output_type": "stream",
          "text": [
            "ответ:\n",
            "[ 2. -2.  9.] \n",
            "\n",
            "проверим ответ, умножим матрицу на x:\n",
            "[ 2.  4. -1.]\n"
          ],
          "name": "stdout"
        }
      ]
    },
    {
      "cell_type": "code",
      "metadata": {
        "id": "gnjrnRDn9llN",
        "colab_type": "code",
        "colab": {}
      },
      "source": [
        ""
      ],
      "execution_count": 0,
      "outputs": []
    },
    {
      "cell_type": "code",
      "metadata": {
        "id": "y7nRFbLo9lof",
        "colab_type": "code",
        "colab": {}
      },
      "source": [
        ""
      ],
      "execution_count": 0,
      "outputs": []
    }
  ]
}